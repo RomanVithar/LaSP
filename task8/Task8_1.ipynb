{
 "cells": [
  {
   "cell_type": "markdown",
   "metadata": {},
   "source": [
    "Затухающие колебания — колебания, энергия которых уменьшается с течением времени. Бесконечно длящийся процесс вида  u(t)=A\\cos(omega t+q)} в природе невозможен. Свободные колебания любого осциллятора рано или поздно затухают и прекращаются. Поэтому на практике обычно имеют дело с затухающими колебаниями. Они характеризуются тем, что амплитуда колебаний A является убывающей функцией. Обычно затухание происходит под действием сил сопротивления среды, наиболее часто выражаемых линейной зависимостью от скорости колебаний или её квадрата."
   ]
  },
  {
   "cell_type": "markdown",
   "metadata": {},
   "source": [
    "![](https://upload.wikimedia.org/wikipedia/commons/2/2b/Damped_spring.gif)"
   ]
  },
  {
   "attachments": {
    "image-2.png": {
     "image/png": "[encoded data removed]"
    },
    "image-3.png": {
     "image/png": "[encoded data removed]"
    },
    "image-4.png": {
     "image/png": "[encoded data removed]"
    },
    "image-5.png": {
     "image/png": "[encoded data removed]"
    },
    "image.png": {
     "image/png": "[encoded data removed]"
    }
   },
   "cell_type": "markdown",
   "metadata": {},
   "source": [
    "Иногда, если тело движется в веществе, силу сопротивления (F¯¯¯¯tr), которая действует на рассматриваемое тело, при маленьких скоростях его движения, считают прямо пропорциональной скорости (v¯¯¯):\n",
    "!(![image.png](attachment:image.png)\n",
    "где β - коэффициент сопротивления.\n",
    "\n",
    "Данную силу учитывают в уравнении второго закона Ньютона при описании движения. Так, уравнение, которое описывает линейные колебания по вертикали (колебания по оси X) пружинного маятника, учитывающее силу трения принимает вид:\n",
    "![image-2.png](attachment:image-2.png)\n",
    "где x˙=vx. Принимая во внимание равенства:\n",
    "![image-3.png](attachment:image-3.png)\n",
    "(где ω0- циклическая частота свободных незатухающих колебаний (собственная частота колебаний при γ=0) той же колебательной системы; γ - коэффициент затухания) уравнение колебаний пружинного маятника с затуханием (2) преобразуем к виду:]\n",
    "![image-4.png](attachment:image-4.png)\n",
    "Малые собственные колебания, затухающие вследствие сопротивления среды в любой физической системе (математический маятник, физический маятник, электрические колебания ...) описывают при помощи уравнения формы (4).\n",
    "\n",
    "Уравнение затухающих колебаний имеет точное решение:\n",
    "![image-5.png](attachment:image-5.png)\n",
    "где ω=ω20−γ2−−−−−−√; A0 - начальная амплитуда колебаний, задаваемая начальными условиями; φ - постоянная из начальных условий. При γ≪ω0, ω≈ω0, параметр A0e−γt можно считать медленно изменяющейся во времени амплитудой колебаний.\n",
    "Затухание колебаний по экспоненте связано с тем, что силу сопротивления мы приняли пропорциональной скорости. Если использовать другую зависимость силы трения от скорости, то закон затухания изменится.\n"
   ]
  },
  {
   "cell_type": "markdown",
   "metadata": {},
   "source": [
    "Напишем код для того чтобы показать затухающие колебания. Сделаем возможность изменения коэфициентов."
   ]
  },
  {
   "cell_type": "markdown",
   "metadata": {},
   "source": [
    "Сначала подключим необходимые библиотеки"
   ]
  },
  {
   "cell_type": "code",
   "execution_count": null,
   "metadata": {},
   "outputs": [],
   "source": []
  },
  {
   "cell_type": "code",
   "execution_count": null,
   "metadata": {},
   "outputs": [],
   "source": [
    "import numpy as np\n",
    "import matplotlib.pyplot as plt\n",
    "from matplotlib.widgets import Slider"
   ]
  },
  {
   "cell_type": "markdown",
   "metadata": {},
   "source": [
    "Далее необходимо добавить некоторые константы"
   ]
  },
  {
   "cell_type": "code",
   "execution_count": null,
   "metadata": {},
   "outputs": [],
   "source": []
  },
  {
   "cell_type": "code",
   "execution_count": 1,
   "metadata": {},
   "outputs": [],
   "source": [
    "M = 1\n",
    "Phi = 0\n",
    "A = 2\n",
    "betta = 1\n",
    "k = 1"
   ]
  },
  {
   "cell_type": "markdown",
   "metadata": {},
   "source": [
    "Теперь добавим функции отрисовки и обновления"
   ]
  },
  {
   "cell_type": "code",
   "execution_count": 2,
   "metadata": {},
   "outputs": [],
   "source": [
    "def update_m(m_t):\n",
    "    global M\n",
    "    M = m_t\n",
    "    update()\n",
    "\n",
    "def update_betta(betta_t):\n",
    "    global betta\n",
    "    betta = betta_t\n",
    "    update()\n",
    "\n",
    "def update_k(k_t):\n",
    "    global k \n",
    "    k = k_t\n",
    "    update()\n",
    "\n",
    "def update():\n",
    "    t = np.linspace(0, 10, 100)\n",
    "    w = np.sqrt(k/M)\n",
    "    gamma = betta/(2*M)\n",
    "    y =  A*np.exp(-gamma*t) *np.cos(w*t + Phi)\n",
    "    ax_1.clear()\n",
    "    ax_1.plot(t,y)"
   ]
  },
  {
   "cell_type": "markdown",
   "metadata": {},
   "source": [
    "И теперь создадим оси и сгенерируем график"
   ]
  },
  {
   "cell_type": "code",
   "execution_count": 1,
   "metadata": {},
   "outputs": [
    {
     "output_type": "error",
     "ename": "NameError",
     "evalue": "name 'plt' is not defined",
     "traceback": [
      "\u001b[1;31m---------------------------------------------------------------------------\u001b[0m",
      "\u001b[1;31mNameError\u001b[0m                                 Traceback (most recent call last)",
      "\u001b[1;32m<ipython-input-1-f0317c0d4208>\u001b[0m in \u001b[0;36m<module>\u001b[1;34m\u001b[0m\n\u001b[1;32m----> 1\u001b[1;33m \u001b[0mfig\u001b[0m \u001b[1;33m=\u001b[0m \u001b[0mplt\u001b[0m\u001b[1;33m.\u001b[0m\u001b[0mfigure\u001b[0m\u001b[1;33m(\u001b[0m\u001b[1;33m)\u001b[0m\u001b[1;33m\u001b[0m\u001b[1;33m\u001b[0m\u001b[0m\n\u001b[0m\u001b[0;32m      2\u001b[0m \u001b[0max_1\u001b[0m \u001b[1;33m=\u001b[0m \u001b[0mfig\u001b[0m\u001b[1;33m.\u001b[0m\u001b[0madd_subplot\u001b[0m\u001b[1;33m(\u001b[0m\u001b[1;36m2\u001b[0m\u001b[1;33m,\u001b[0m \u001b[1;36m1\u001b[0m\u001b[1;33m,\u001b[0m \u001b[1;36m1\u001b[0m\u001b[1;33m)\u001b[0m\u001b[1;33m\u001b[0m\u001b[1;33m\u001b[0m\u001b[0m\n\u001b[0;32m      3\u001b[0m \u001b[0mfig\u001b[0m\u001b[1;33m.\u001b[0m\u001b[0msubplots_adjust\u001b[0m\u001b[1;33m(\u001b[0m\u001b[0mleft\u001b[0m\u001b[1;33m=\u001b[0m\u001b[1;36m0.07\u001b[0m\u001b[1;33m,\u001b[0m \u001b[0mright\u001b[0m\u001b[1;33m=\u001b[0m\u001b[1;36m0.95\u001b[0m\u001b[1;33m,\u001b[0m \u001b[0mtop\u001b[0m\u001b[1;33m=\u001b[0m\u001b[1;36m0.95\u001b[0m\u001b[1;33m,\u001b[0m \u001b[0mbottom\u001b[0m\u001b[1;33m=\u001b[0m\u001b[1;36m0.4\u001b[0m\u001b[1;33m)\u001b[0m\u001b[1;33m\u001b[0m\u001b[1;33m\u001b[0m\u001b[0m\n\u001b[0;32m      4\u001b[0m \u001b[0mchange_bar_betta\u001b[0m \u001b[1;33m=\u001b[0m \u001b[0mplt\u001b[0m\u001b[1;33m.\u001b[0m\u001b[0maxes\u001b[0m\u001b[1;33m(\u001b[0m\u001b[1;33m[\u001b[0m\u001b[1;36m0.25\u001b[0m\u001b[1;33m,\u001b[0m \u001b[1;36m0.1\u001b[0m\u001b[1;33m,\u001b[0m \u001b[1;36m0.65\u001b[0m\u001b[1;33m,\u001b[0m \u001b[1;36m0.03\u001b[0m\u001b[1;33m]\u001b[0m\u001b[1;33m)\u001b[0m\u001b[1;33m\u001b[0m\u001b[1;33m\u001b[0m\u001b[0m\n\u001b[0;32m      5\u001b[0m \u001b[0mchange_bar_k\u001b[0m \u001b[1;33m=\u001b[0m \u001b[0mplt\u001b[0m\u001b[1;33m.\u001b[0m\u001b[0maxes\u001b[0m\u001b[1;33m(\u001b[0m\u001b[1;33m[\u001b[0m\u001b[1;36m0.25\u001b[0m\u001b[1;33m,\u001b[0m \u001b[1;36m0.2\u001b[0m\u001b[1;33m,\u001b[0m \u001b[1;36m0.65\u001b[0m\u001b[1;33m,\u001b[0m \u001b[1;36m0.03\u001b[0m\u001b[1;33m]\u001b[0m\u001b[1;33m)\u001b[0m\u001b[1;33m\u001b[0m\u001b[1;33m\u001b[0m\u001b[0m\n",
      "\u001b[1;31mNameError\u001b[0m: name 'plt' is not defined"
     ]
    }
   ],
   "source": [
    "\n",
    "fig = plt.figure()\n",
    "ax_1 = fig.add_subplot(2, 1, 1)\n",
    "fig.subplots_adjust(left=0.07, right=0.95, top=0.95, bottom=0.4)\n",
    "change_bar_betta = plt.axes([0.25, 0.1, 0.65, 0.03]) \n",
    "change_bar_k = plt.axes([0.25, 0.2, 0.65, 0.03]) \n",
    "# change_bar_m = plt.axes([0.25, 0.3, 0.65, 0.03]) \n",
    "\n",
    "ch1= Slider(change_bar_betta, 'betta', 0 , 10, valinit=0)\n",
    "ch2= Slider(change_bar_k, 'k', 0, 100, valinit=40)\n",
    "# ch3= Slider(change_bar_m, 'm', 0, 20, valinit=1)\n",
    "\n",
    "ch1.on_changed(update_betta)\n",
    "ch2.on_changed(update_k)\n",
    "interact(f, x=10)\n",
    "# ch3.on_changed(update_m)\n",
    "update_k(40)\n",
    "update()\n",
    "plt.show()"
   ]
  },
  {
   "cell_type": "code",
   "execution_count": null,
   "metadata": {},
   "outputs": [],
   "source": []
  },
  {
   "cell_type": "code",
   "execution_count": null,
   "metadata": {},
   "outputs": [],
   "source": []
  }
 ],
 "metadata": {
  "kernelspec": {
   "display_name": "Python 3",
   "language": "python",
   "name": "python3"
  },
  "language_info": {
   "codemirror_mode": {
    "name": "ipython",
    "version": 3
   },
   "file_extension": ".py",
   "mimetype": "text/x-python",
   "name": "python",
   "nbconvert_exporter": "python",
   "pygments_lexer": "ipython3",
   "version": "3.9.5"
  },
  "metadata": {
   "interpreter": {
    "hash": "8705abb4ef8bab98eaebbe7d775d98d2b6a2f9868f49aeba9c7d99ed8ba441d6"
   }
  }
 },
 "nbformat": 4,
 "nbformat_minor": 2
}